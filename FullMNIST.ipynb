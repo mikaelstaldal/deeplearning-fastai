{
 "cells": [
  {
   "cell_type": "markdown",
   "id": "meaning-characterization",
   "metadata": {},
   "source": [
    "## Full MNIST dataset for digit image classification"
   ]
  },
  {
   "cell_type": "code",
   "execution_count": 1,
   "id": "japanese-raising",
   "metadata": {},
   "outputs": [],
   "source": [
    "from fastai.vision.all import *\n",
    "from fastbook import *\n",
    "\n",
    "matplotlib.rc('image', cmap='Greys')"
   ]
  },
  {
   "cell_type": "code",
   "execution_count": 2,
   "id": "assigned-liability",
   "metadata": {},
   "outputs": [],
   "source": [
    "path = untar_data(URLs.MNIST)"
   ]
  },
  {
   "cell_type": "code",
   "execution_count": 5,
   "id": "solid-former",
   "metadata": {},
   "outputs": [],
   "source": [
    "train_path = path/'training'\n",
    "fnames = get_image_files(train_path)\n",
    "def label_func(x): return x.parent.name\n",
    "dls = ImageDataLoaders.from_path_func(train_path, fnames, label_func)"
   ]
  },
  {
   "cell_type": "code",
   "execution_count": 6,
   "id": "sustained-writing",
   "metadata": {},
   "outputs": [
    {
     "data": {
      "image/png": "[encoded data removed]",
      "text/plain": [
       "<Figure size 1728x216 with 8 Axes>"
      ]
     },
     "metadata": {
      "needs_background": "light"
     },
     "output_type": "display_data"
    }
   ],
   "source": [
    "dls.train.show_batch(max_n=8, nrows=1)"
   ]
  },
  {
   "cell_type": "code",
   "execution_count": 44,
   "id": "cross-excuse",
   "metadata": {},
   "outputs": [
    {
     "data": {
      "text/html": [
       "<table border=\"1\" class=\"dataframe\">\n",
       "  <thead>\n",
       "    <tr style=\"text-align: left;\">\n",
       "      <th>epoch</th>\n",
       "      <th>train_loss</th>\n",
       "      <th>valid_loss</th>\n",
       "      <th>accuracy</th>\n",
       "      <th>time</th>\n",
       "    </tr>\n",
       "  </thead>\n",
       "  <tbody>\n",
       "    <tr>\n",
       "      <td>0</td>\n",
       "      <td>1.494875</td>\n",
       "      <td>37.081966</td>\n",
       "      <td>0.827917</td>\n",
       "      <td>00:38</td>\n",
       "    </tr>\n",
       "    <tr>\n",
       "      <td>1</td>\n",
       "      <td>0.660806</td>\n",
       "      <td>3.145134</td>\n",
       "      <td>0.966417</td>\n",
       "      <td>00:36</td>\n",
       "    </tr>\n",
       "    <tr>\n",
       "      <td>2</td>\n",
       "      <td>0.127342</td>\n",
       "      <td>0.148729</td>\n",
       "      <td>0.985250</td>\n",
       "      <td>00:36</td>\n",
       "    </tr>\n",
       "    <tr>\n",
       "      <td>3</td>\n",
       "      <td>0.060492</td>\n",
       "      <td>1.847279</td>\n",
       "      <td>0.990083</td>\n",
       "      <td>00:37</td>\n",
       "    </tr>\n",
       "  </tbody>\n",
       "</table>"
      ],
      "text/plain": [
       "<IPython.core.display.HTML object>"
      ]
     },
     "metadata": {},
     "output_type": "display_data"
    }
   ],
   "source": [
    "learn = cnn_learner(dls, resnet18, pretrained=False, metrics=accuracy)\n",
    "learn.fit_one_cycle(4, 0.1)"
   ]
  },
  {
   "cell_type": "code",
   "execution_count": 45,
   "id": "institutional-cowboy",
   "metadata": {},
   "outputs": [
    {
     "data": {
      "text/plain": [
       "['0', '1', '2', '3', '4', '5', '6', '7', '8', '9']"
      ]
     },
     "execution_count": 45,
     "metadata": {},
     "output_type": "execute_result"
    }
   ],
   "source": [
    "learn.dls.vocab"
   ]
  },
  {
   "cell_type": "code",
   "execution_count": 9,
   "id": "powered-lighter",
   "metadata": {},
   "outputs": [
    {
     "data": {
      "image/png": "[encoded data removed]",
      "text/plain": [
       "PILImage mode=RGB size=28x28"
      ]
     },
     "execution_count": 9,
     "metadata": {},
     "output_type": "execute_result"
    }
   ],
   "source": [
    "a5 = PILImage.create((path/'testing'/'5').ls()[0])\n",
    "a5"
   ]
  },
  {
   "cell_type": "code",
   "execution_count": 46,
   "id": "novel-anthony",
   "metadata": {},
   "outputs": [
    {
     "data": {
      "text/html": [],
      "text/plain": [
       "<IPython.core.display.HTML object>"
      ]
     },
     "metadata": {},
     "output_type": "display_data"
    },
    {
     "data": {
      "text/plain": [
       "('5',\n",
       " tensor(5),\n",
       " tensor([7.6830e-09, 1.2492e-08, 5.8493e-09, 5.6325e-06, 1.0330e-08, 9.9999e-01, 1.8937e-07, 5.9613e-08, 8.4577e-07, 3.0567e-07]))"
      ]
     },
     "execution_count": 46,
     "metadata": {},
     "output_type": "execute_result"
    }
   ],
   "source": [
    "res = learn.predict(a5)\n",
    "res"
   ]
  },
  {
   "cell_type": "code",
   "execution_count": 33,
   "id": "material-balloon",
   "metadata": {},
   "outputs": [
    {
     "data": {
      "image/png": "[encoded data removed]",
      "text/plain": [
       "PILImage mode=RGB size=28x28"
      ]
     },
     "execution_count": 33,
     "metadata": {},
     "output_type": "execute_result"
    }
   ],
   "source": [
    "a7 = PILImage.create((path/'testing'/'7').ls()[0])\n",
    "a7"
   ]
  },
  {
   "cell_type": "code",
   "execution_count": 47,
   "id": "sudden-wildlife",
   "metadata": {},
   "outputs": [
    {
     "data": {
      "text/html": [],
      "text/plain": [
       "<IPython.core.display.HTML object>"
      ]
     },
     "metadata": {},
     "output_type": "display_data"
    },
    {
     "data": {
      "text/plain": [
       "('7',\n",
       " tensor(7),\n",
       " tensor([3.5985e-08, 3.9497e-07, 2.2603e-07, 1.8958e-07, 4.2863e-07, 4.1680e-08, 2.0766e-09, 1.0000e+00, 3.9197e-07, 2.1012e-06]))"
      ]
     },
     "execution_count": 47,
     "metadata": {},
     "output_type": "execute_result"
    }
   ],
   "source": [
    "res = learn.predict(a7)\n",
    "res"
   ]
  },
  {
   "cell_type": "code",
   "execution_count": 48,
   "id": "therapeutic-farmer",
   "metadata": {},
   "outputs": [],
   "source": [
    "def classify_digit(digit):\n",
    "    _, _, probs = learn.predict(digit)\n",
    "    labeled_probs = zip(range(0, 10), probs)\n",
    "    return max(labeled_probs, key=lambda t: t[1])[0]"
   ]
  },
  {
   "cell_type": "code",
   "execution_count": 49,
   "id": "developed-passenger",
   "metadata": {},
   "outputs": [
    {
     "data": {
      "text/html": [],
      "text/plain": [
       "<IPython.core.display.HTML object>"
      ]
     },
     "metadata": {},
     "output_type": "display_data"
    },
    {
     "data": {
      "text/plain": [
       "5"
      ]
     },
     "execution_count": 49,
     "metadata": {},
     "output_type": "execute_result"
    }
   ],
   "source": [
    "classify_digit(a5)"
   ]
  }
 ],
 "metadata": {
  "kernelspec": {
   "display_name": "Python 3",
   "language": "python",
   "name": "python3"
  },
  "language_info": {
   "codemirror_mode": {
    "name": "ipython",
    "version": 3
   },
   "file_extension": ".py",
   "mimetype": "text/x-python",
   "name": "python",
   "nbconvert_exporter": "python",
   "pygments_lexer": "ipython3",
   "version": "3.8.2"
  }
 },
 "nbformat": 4,
 "nbformat_minor": 5
}
