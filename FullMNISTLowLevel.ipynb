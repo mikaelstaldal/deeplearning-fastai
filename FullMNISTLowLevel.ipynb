{
 "cells": [
  {
   "cell_type": "markdown",
   "id": "meaning-characterization",
   "metadata": {},
   "source": [
    "## Full MNIST dataset for digit image classification\n",
    "Hard approach using low-level fast.ai and PyTorch."
   ]
  },
  {
   "cell_type": "code",
   "execution_count": 148,
   "id": "japanese-raising",
   "metadata": {},
   "outputs": [],
   "source": [
    "from fastai.vision.all import *"
   ]
  },
  {
   "cell_type": "markdown",
   "id": "statistical-catalog",
   "metadata": {},
   "source": [
    "### Load training and validation data"
   ]
  },
  {
   "cell_type": "code",
   "execution_count": 149,
   "id": "assigned-liability",
   "metadata": {},
   "outputs": [],
   "source": [
    "path = untar_data(URLs.MNIST)"
   ]
  },
  {
   "cell_type": "code",
   "execution_count": 150,
   "id": "solid-former",
   "metadata": {},
   "outputs": [],
   "source": [
    "train_path = path/'training'\n",
    "dblock = DataBlock(blocks=(ImageBlock, CategoryBlock),\n",
    "                   get_items=get_image_files, \n",
    "                   splitter=RandomSplitter(0.2, seed=None),\n",
    "                   get_y=parent_label)\n",
    "dls = dblock.dataloaders(train_path, bs=64)"
   ]
  },
  {
   "cell_type": "code",
   "execution_count": 151,
   "id": "recorded-expansion",
   "metadata": {},
   "outputs": [
    {
     "data": {
      "text/plain": [
       "(['0', '1', '2', '3', '4', '5', '6', '7', '8', '9'], 10)"
      ]
     },
     "execution_count": 151,
     "metadata": {},
     "output_type": "execute_result"
    }
   ],
   "source": [
    "dls.vocab, len(dls.vocab)"
   ]
  },
  {
   "cell_type": "code",
   "execution_count": 152,
   "id": "contemporary-second",
   "metadata": {},
   "outputs": [
    {
     "data": {
      "image/png": "[encoded data removed]",
      "text/plain": [
       "<Figure size 1728x216 with 8 Axes>"
      ]
     },
     "metadata": {
      "needs_background": "light"
     },
     "output_type": "display_data"
    }
   ],
   "source": [
    "dls.show_batch(max_n=8, nrows=1)"
   ]
  },
  {
   "cell_type": "code",
   "execution_count": 153,
   "id": "minute-execution",
   "metadata": {},
   "outputs": [
    {
     "name": "stdout",
     "output_type": "stream",
     "text": [
      "Setting-up type transforms pipelines\n",
      "Collecting items from /home/mikes/.fastai/data/mnist_png/training\n",
      "Found 60000 items\n",
      "2 datasets of sizes 48000,12000\n",
      "Setting up Pipeline: PILBase.create\n",
      "Setting up Pipeline: parent_label -> Categorize -- {'vocab': None, 'sort': True, 'add_na': False}\n",
      "\n",
      "Building one sample\n",
      "  Pipeline: PILBase.create\n",
      "    starting from\n",
      "      /home/mikes/.fastai/data/mnist_png/training/8/24150.png\n",
      "    applying PILBase.create gives\n",
      "      PILImage mode=RGB size=28x28\n",
      "  Pipeline: parent_label -> Categorize -- {'vocab': None, 'sort': True, 'add_na': False}\n",
      "    starting from\n",
      "      /home/mikes/.fastai/data/mnist_png/training/8/24150.png\n",
      "    applying parent_label gives\n",
      "      8\n",
      "    applying Categorize -- {'vocab': None, 'sort': True, 'add_na': False} gives\n",
      "      TensorCategory(8)\n",
      "\n",
      "Final sample: (PILImage mode=RGB size=28x28, TensorCategory(8))\n",
      "\n",
      "\n",
      "Collecting items from /home/mikes/.fastai/data/mnist_png/training\n",
      "Found 60000 items\n",
      "2 datasets of sizes 48000,12000\n",
      "Setting up Pipeline: PILBase.create\n",
      "Setting up Pipeline: parent_label -> Categorize -- {'vocab': None, 'sort': True, 'add_na': False}\n",
      "Setting up after_item: Pipeline: ToTensor\n",
      "Setting up before_batch: Pipeline: \n",
      "Setting up after_batch: Pipeline: IntToFloatTensor -- {'div': 255.0, 'div_mask': 1}\n",
      "\n",
      "Building one batch\n",
      "Applying item_tfms to the first sample:\n",
      "  Pipeline: ToTensor\n",
      "    starting from\n",
      "      (PILImage mode=RGB size=28x28, TensorCategory(8))\n",
      "    applying ToTensor gives\n",
      "      (TensorImage of size 3x28x28, TensorCategory(8))\n",
      "\n",
      "Adding the next 3 samples\n",
      "\n",
      "No before_batch transform to apply\n",
      "\n",
      "Collating items in a batch\n",
      "\n",
      "Applying batch_tfms to the batch built\n",
      "  Pipeline: IntToFloatTensor -- {'div': 255.0, 'div_mask': 1}\n",
      "    starting from\n",
      "      (TensorImage of size 4x3x28x28, TensorCategory([8, 0, 5, 1], device='cuda:0'))\n",
      "    applying IntToFloatTensor -- {'div': 255.0, 'div_mask': 1} gives\n",
      "      (TensorImage of size 4x3x28x28, TensorCategory([8, 0, 5, 1], device='cuda:0'))\n"
     ]
    }
   ],
   "source": [
    "dblock.summary(train_path)"
   ]
  },
  {
   "cell_type": "markdown",
   "id": "arranged-plymouth",
   "metadata": {},
   "source": [
    "### Prepare test data"
   ]
  },
  {
   "cell_type": "code",
   "execution_count": 154,
   "id": "powered-lighter",
   "metadata": {},
   "outputs": [
    {
     "data": {
      "image/png": "[encoded data removed]",
      "text/plain": [
       "PILImage mode=RGB size=28x28"
      ]
     },
     "execution_count": 154,
     "metadata": {},
     "output_type": "execute_result"
    }
   ],
   "source": [
    "a5 = PILImage.create((path/'testing'/'5').ls()[0])\n",
    "a5"
   ]
  },
  {
   "cell_type": "code",
   "execution_count": 155,
   "id": "material-balloon",
   "metadata": {},
   "outputs": [
    {
     "data": {
      "image/png": "[encoded data removed]",
      "text/plain": [
       "PILImage mode=RGB size=28x28"
      ]
     },
     "execution_count": 155,
     "metadata": {},
     "output_type": "execute_result"
    }
   ],
   "source": [
    "a7 = PILImage.create((path/'testing'/'7').ls()[0])\n",
    "a7"
   ]
  },
  {
   "cell_type": "markdown",
   "id": "sorted-savannah",
   "metadata": {},
   "source": [
    "### Train model"
   ]
  },
  {
   "cell_type": "code",
   "execution_count": 156,
   "id": "vanilla-mortgage",
   "metadata": {},
   "outputs": [],
   "source": [
    "image_size = 28*28*3"
   ]
  },
  {
   "cell_type": "code",
   "execution_count": 157,
   "id": "intelligent-fishing",
   "metadata": {},
   "outputs": [],
   "source": [
    "def image_category_loss(predictions, targets):\n",
    "    predictions = predictions.log_softmax(dim=1)\n",
    "    # return (-predictions[range(predictions.shape[0]), targets]).mean()\n",
    "    return F.nll_loss(predictions, targets)"
   ]
  },
  {
   "cell_type": "code",
   "execution_count": 158,
   "id": "rotary-basket",
   "metadata": {},
   "outputs": [],
   "source": [
    "def batch_accuracy(predictions, targets):\n",
    "    predictions = predictions.softmax(dim=1)\n",
    "    correct = torch.argmax(predictions, dim=1) == targets\n",
    "    return correct.float().mean()"
   ]
  },
  {
   "cell_type": "code",
   "execution_count": 159,
   "id": "electric-illinois",
   "metadata": {},
   "outputs": [],
   "source": [
    "def validate_epoch(model, dl):\n",
    "    losses = [image_category_loss(model(xb.view(xb.shape[0], -1)), yb) for xb,yb in dl]\n",
    "    accuracies = [batch_accuracy(model(xb.view(xb.shape[0], -1)), yb) for xb,yb in dl]\n",
    "    return torch.stack(losses).mean().item(), torch.stack(accuracies).mean().item()"
   ]
  },
  {
   "cell_type": "code",
   "execution_count": 160,
   "id": "wrong-monaco",
   "metadata": {},
   "outputs": [],
   "source": [
    "def train_epoch(model, dl, lr):\n",
    "    for xb,yb in dl:\n",
    "        predictions = model(xb.view(xb.shape[0], -1))\n",
    "        loss = image_category_loss(predictions, yb)\n",
    "        loss.backward()\n",
    "        for p in model.parameters():\n",
    "            p.data -= p.grad*lr\n",
    "            p.grad.zero_()\n",
    "    return loss.item()"
   ]
  },
  {
   "cell_type": "code",
   "execution_count": 161,
   "id": "actual-number",
   "metadata": {},
   "outputs": [],
   "source": [
    "def train_model(dls, model, epochs, lr):\n",
    "    for epoch in range(epochs):\n",
    "        loss = train_epoch(model, dls.train, lr)\n",
    "        valid_loss, accuracy = validate_epoch(model, dls.valid)\n",
    "        print(f\"epoch {epoch:2d}: train_loss={loss:8f} valid_loss={valid_loss:8f} accuracy={accuracy:8f}\")"
   ]
  },
  {
   "cell_type": "code",
   "execution_count": 162,
   "id": "therapeutic-farmer",
   "metadata": {},
   "outputs": [],
   "source": [
    "def classify_digit(digit):\n",
    "    digit_tensor = IntToFloatTensor(div=255.0, div_mask=1)(ToTensor()(digit)).to(default_device())\n",
    "    predictions = model(digit_tensor.reshape(-1)).squeeze().softmax(dim=0)\n",
    "    val, idx = torch.max(predictions, dim=0)\n",
    "    return idx.item(), val.item()"
   ]
  },
  {
   "cell_type": "code",
   "execution_count": 163,
   "id": "allied-advocate",
   "metadata": {},
   "outputs": [],
   "source": [
    "model = nn.Sequential(\n",
    "    nn.Linear(image_size, 100),\n",
    "    nn.ReLU(),\n",
    "    nn.Linear(100, len(dls.vocab))\n",
    ").to(default_device())"
   ]
  },
  {
   "cell_type": "code",
   "execution_count": 164,
   "id": "reserved-balloon",
   "metadata": {},
   "outputs": [
    {
     "name": "stdout",
     "output_type": "stream",
     "text": [
      "epoch  0: train_loss=0.227852 valid_loss=0.250517 accuracy=0.925116\n",
      "epoch  1: train_loss=0.171338 valid_loss=0.171872 accuracy=0.949136\n",
      "epoch  2: train_loss=0.073561 valid_loss=0.143074 accuracy=0.957197\n",
      "epoch  3: train_loss=0.070316 valid_loss=0.122785 accuracy=0.963597\n",
      "epoch  4: train_loss=0.120748 valid_loss=0.114255 accuracy=0.965758\n",
      "epoch  5: train_loss=0.075735 valid_loss=0.104858 accuracy=0.968916\n",
      "epoch  6: train_loss=0.099645 valid_loss=0.103913 accuracy=0.968002\n",
      "epoch  7: train_loss=0.034342 valid_loss=0.096538 accuracy=0.969997\n",
      "epoch  8: train_loss=0.019497 valid_loss=0.094305 accuracy=0.970828\n",
      "epoch  9: train_loss=0.013296 valid_loss=0.089128 accuracy=0.972739\n"
     ]
    }
   ],
   "source": [
    "train_model(dls, model, epochs=10, lr=0.1)"
   ]
  },
  {
   "cell_type": "markdown",
   "id": "governing-ordinance",
   "metadata": {},
   "source": [
    "### Test model"
   ]
  },
  {
   "cell_type": "code",
   "execution_count": 165,
   "id": "developed-passenger",
   "metadata": {},
   "outputs": [
    {
     "data": {
      "text/plain": [
       "(5, 0.9941278696060181)"
      ]
     },
     "execution_count": 165,
     "metadata": {},
     "output_type": "execute_result"
    }
   ],
   "source": [
    "classify_digit(a5)"
   ]
  },
  {
   "cell_type": "code",
   "execution_count": 166,
   "id": "perfect-paragraph",
   "metadata": {},
   "outputs": [
    {
     "data": {
      "text/plain": [
       "(7, 0.9999872446060181)"
      ]
     },
     "execution_count": 166,
     "metadata": {},
     "output_type": "execute_result"
    }
   ],
   "source": [
    "classify_digit(a7)"
   ]
  }
 ],
 "metadata": {
  "kernelspec": {
   "display_name": "Python 3",
   "language": "python",
   "name": "python3"
  },
  "language_info": {
   "codemirror_mode": {
    "name": "ipython",
    "version": 3
   },
   "file_extension": ".py",
   "mimetype": "text/x-python",
   "name": "python",
   "nbconvert_exporter": "python",
   "pygments_lexer": "ipython3",
   "version": "3.8.2"
  }
 },
 "nbformat": 4,
 "nbformat_minor": 5
}
