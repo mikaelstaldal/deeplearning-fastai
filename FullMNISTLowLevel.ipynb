{
 "cells": [
  {
   "cell_type": "markdown",
   "id": "meaning-characterization",
   "metadata": {},
   "source": [
    "## Full MNIST dataset for digit image classification\n",
    "Hard approach using low-level fast.ai and PyTorch."
   ]
  },
  {
   "cell_type": "code",
   "execution_count": 1,
   "id": "japanese-raising",
   "metadata": {},
   "outputs": [],
   "source": [
    "from fastai.vision.all import *"
   ]
  },
  {
   "cell_type": "markdown",
   "id": "statistical-catalog",
   "metadata": {},
   "source": [
    "### Load training and validation data"
   ]
  },
  {
   "cell_type": "code",
   "execution_count": 2,
   "id": "assigned-liability",
   "metadata": {},
   "outputs": [],
   "source": [
    "path = untar_data(URLs.MNIST)"
   ]
  },
  {
   "cell_type": "code",
   "execution_count": 3,
   "id": "solid-former",
   "metadata": {},
   "outputs": [],
   "source": [
    "train_path = path/'training'\n",
    "dblock = DataBlock(blocks=(ImageBlock, CategoryBlock),\n",
    "                   get_items=get_image_files, \n",
    "                   splitter=RandomSplitter(0.2, seed=None),\n",
    "                   get_y=parent_label)\n",
    "dls = dblock.dataloaders(train_path, bs=64)"
   ]
  },
  {
   "cell_type": "code",
   "execution_count": 4,
   "id": "recorded-expansion",
   "metadata": {},
   "outputs": [
    {
     "data": {
      "text/plain": [
       "(['0', '1', '2', '3', '4', '5', '6', '7', '8', '9'], 10)"
      ]
     },
     "execution_count": 4,
     "metadata": {},
     "output_type": "execute_result"
    }
   ],
   "source": [
    "dls.vocab, len(dls.vocab)"
   ]
  },
  {
   "cell_type": "code",
   "execution_count": 5,
   "id": "contemporary-second",
   "metadata": {},
   "outputs": [
    {
     "data": {
      "image/png": "[encoded data removed]",
      "text/plain": [
       "<Figure size 1728x216 with 8 Axes>"
      ]
     },
     "metadata": {
      "needs_background": "light"
     },
     "output_type": "display_data"
    }
   ],
   "source": [
    "dls.show_batch(max_n=8, nrows=1)"
   ]
  },
  {
   "cell_type": "code",
   "execution_count": 6,
   "id": "minute-execution",
   "metadata": {},
   "outputs": [
    {
     "name": "stdout",
     "output_type": "stream",
     "text": [
      "Setting-up type transforms pipelines\n",
      "Collecting items from /home/mikes/.fastai/data/mnist_png/training\n",
      "Found 60000 items\n",
      "2 datasets of sizes 48000,12000\n",
      "Setting up Pipeline: PILBase.create\n",
      "Setting up Pipeline: parent_label -> Categorize -- {'vocab': None, 'sort': True, 'add_na': False}\n",
      "\n",
      "Building one sample\n",
      "  Pipeline: PILBase.create\n",
      "    starting from\n",
      "      /home/mikes/.fastai/data/mnist_png/training/7/50244.png\n",
      "    applying PILBase.create gives\n",
      "      PILImage mode=RGB size=28x28\n",
      "  Pipeline: parent_label -> Categorize -- {'vocab': None, 'sort': True, 'add_na': False}\n",
      "    starting from\n",
      "      /home/mikes/.fastai/data/mnist_png/training/7/50244.png\n",
      "    applying parent_label gives\n",
      "      7\n",
      "    applying Categorize -- {'vocab': None, 'sort': True, 'add_na': False} gives\n",
      "      TensorCategory(7)\n",
      "\n",
      "Final sample: (PILImage mode=RGB size=28x28, TensorCategory(7))\n",
      "\n",
      "\n",
      "Collecting items from /home/mikes/.fastai/data/mnist_png/training\n",
      "Found 60000 items\n",
      "2 datasets of sizes 48000,12000\n",
      "Setting up Pipeline: PILBase.create\n",
      "Setting up Pipeline: parent_label -> Categorize -- {'vocab': None, 'sort': True, 'add_na': False}\n",
      "Setting up after_item: Pipeline: ToTensor\n",
      "Setting up before_batch: Pipeline: \n",
      "Setting up after_batch: Pipeline: IntToFloatTensor -- {'div': 255.0, 'div_mask': 1}\n",
      "\n",
      "Building one batch\n",
      "Applying item_tfms to the first sample:\n",
      "  Pipeline: ToTensor\n",
      "    starting from\n",
      "      (PILImage mode=RGB size=28x28, TensorCategory(7))\n",
      "    applying ToTensor gives\n",
      "      (TensorImage of size 3x28x28, TensorCategory(7))\n",
      "\n",
      "Adding the next 3 samples\n",
      "\n",
      "No before_batch transform to apply\n",
      "\n",
      "Collating items in a batch\n",
      "\n",
      "Applying batch_tfms to the batch built\n",
      "  Pipeline: IntToFloatTensor -- {'div': 255.0, 'div_mask': 1}\n",
      "    starting from\n",
      "      (TensorImage of size 4x3x28x28, TensorCategory([7, 8, 3, 8], device='cuda:0'))\n",
      "    applying IntToFloatTensor -- {'div': 255.0, 'div_mask': 1} gives\n",
      "      (TensorImage of size 4x3x28x28, TensorCategory([7, 8, 3, 8], device='cuda:0'))\n"
     ]
    }
   ],
   "source": [
    "dblock.summary(train_path)"
   ]
  },
  {
   "cell_type": "markdown",
   "id": "arranged-plymouth",
   "metadata": {},
   "source": [
    "### Prepare test data"
   ]
  },
  {
   "cell_type": "code",
   "execution_count": 7,
   "id": "powered-lighter",
   "metadata": {},
   "outputs": [
    {
     "data": {
      "image/png": "[encoded data removed]",
      "text/plain": [
       "PILImage mode=RGB size=28x28"
      ]
     },
     "execution_count": 7,
     "metadata": {},
     "output_type": "execute_result"
    }
   ],
   "source": [
    "a5 = PILImage.create((path/'testing'/'5').ls()[0])\n",
    "a5"
   ]
  },
  {
   "cell_type": "code",
   "execution_count": 8,
   "id": "material-balloon",
   "metadata": {},
   "outputs": [
    {
     "data": {
      "image/png": "[encoded data removed]",
      "text/plain": [
       "PILImage mode=RGB size=28x28"
      ]
     },
     "execution_count": 8,
     "metadata": {},
     "output_type": "execute_result"
    }
   ],
   "source": [
    "a7 = PILImage.create((path/'testing'/'7').ls()[0])\n",
    "a7"
   ]
  },
  {
   "cell_type": "markdown",
   "id": "sorted-savannah",
   "metadata": {},
   "source": [
    "### Train model"
   ]
  },
  {
   "cell_type": "code",
   "execution_count": 46,
   "id": "diverse-collapse",
   "metadata": {},
   "outputs": [],
   "source": [
    "from IPython.display import display, Markdown, update_display\n",
    "from time import process_time\n",
    "from datetime import timedelta"
   ]
  },
  {
   "cell_type": "code",
   "execution_count": 9,
   "id": "vanilla-mortgage",
   "metadata": {},
   "outputs": [],
   "source": [
    "image_size = 28*28*3"
   ]
  },
  {
   "cell_type": "code",
   "execution_count": 10,
   "id": "intelligent-fishing",
   "metadata": {},
   "outputs": [],
   "source": [
    "def image_category_loss(predictions, targets):\n",
    "    predictions = predictions.log_softmax(dim=1)\n",
    "    # return (-predictions[range(predictions.shape[0]), targets]).mean()\n",
    "    return F.nll_loss(predictions, targets)"
   ]
  },
  {
   "cell_type": "code",
   "execution_count": 11,
   "id": "rotary-basket",
   "metadata": {},
   "outputs": [],
   "source": [
    "def batch_accuracy(predictions, targets):\n",
    "    predictions = predictions.softmax(dim=1)\n",
    "    correct = torch.argmax(predictions, dim=1) == targets\n",
    "    return correct.float().mean()"
   ]
  },
  {
   "cell_type": "code",
   "execution_count": 12,
   "id": "electric-illinois",
   "metadata": {},
   "outputs": [],
   "source": [
    "def validate_epoch(model, dl):\n",
    "    losses = [image_category_loss(model(xb.view(xb.shape[0], -1)), yb) for xb,yb in dl]\n",
    "    accuracies = [batch_accuracy(model(xb.view(xb.shape[0], -1)), yb) for xb,yb in dl]\n",
    "    return torch.stack(losses).mean().item(), torch.stack(accuracies).mean().item()"
   ]
  },
  {
   "cell_type": "code",
   "execution_count": 13,
   "id": "wrong-monaco",
   "metadata": {},
   "outputs": [],
   "source": [
    "def train_epoch(model, dl, lr):\n",
    "    for xb,yb in dl:\n",
    "        predictions = model(xb.view(xb.shape[0], -1))\n",
    "        loss = image_category_loss(predictions, yb)\n",
    "        loss.backward()\n",
    "        for p in model.parameters():\n",
    "            p.data -= p.grad*lr\n",
    "            p.grad.zero_()\n",
    "    return loss.item()"
   ]
  },
  {
   "cell_type": "code",
   "execution_count": 49,
   "id": "actual-number",
   "metadata": {},
   "outputs": [],
   "source": [
    "def train_model(dls, model, epochs, lr):\n",
    "    progress = \"\"\"epoch | train_loss | valid_loss | accuracy | time\n",
    "----- | ---------- | ---------- | -------- | ----\"\"\"\n",
    "    display(Markdown(progress), display_id='progress')\n",
    "    for epoch in range(epochs):\n",
    "        start_time = process_time()\n",
    "        loss = train_epoch(model, dls.train, lr)\n",
    "        valid_loss, accuracy = validate_epoch(model, dls.valid)\n",
    "        elapsed = round(process_time() - start_time)\n",
    "        progress += f\"\\n{epoch:2d} | {loss:8f} | {valid_loss:8f} | {accuracy:8f} | {str(timedelta(seconds=elapsed))}\"\n",
    "        update_display(Markdown(progress), display_id='progress')"
   ]
  },
  {
   "cell_type": "code",
   "execution_count": 15,
   "id": "therapeutic-farmer",
   "metadata": {},
   "outputs": [],
   "source": [
    "def classify_digit(digit):\n",
    "    digit_tensor = IntToFloatTensor(div=255.0, div_mask=1)(ToTensor()(digit)).to(default_device())\n",
    "    predictions = model(digit_tensor.reshape(-1)).squeeze().softmax(dim=0)\n",
    "    val, idx = torch.max(predictions, dim=0)\n",
    "    return idx.item(), val.item()"
   ]
  },
  {
   "cell_type": "code",
   "execution_count": 16,
   "id": "allied-advocate",
   "metadata": {},
   "outputs": [],
   "source": [
    "model = nn.Sequential(\n",
    "    nn.Linear(image_size, 100),\n",
    "    nn.ReLU(),\n",
    "    nn.Linear(100, len(dls.vocab))\n",
    ").to(default_device())"
   ]
  },
  {
   "cell_type": "code",
   "execution_count": 51,
   "id": "reserved-balloon",
   "metadata": {},
   "outputs": [
    {
     "data": {
      "text/markdown": [
       "epoch | train_loss | valid_loss | accuracy | time\n",
       "----- | ---------- | ---------- | -------- | ----\n",
       " 0 | 0.002423 | 0.095636 | 0.977061 | 0:00:05\n",
       " 1 | 0.001786 | 0.094845 | 0.977227 | 0:00:05\n",
       " 2 | 0.000681 | 0.096312 | 0.976978 | 0:00:05\n",
       " 3 | 0.002512 | 0.095327 | 0.977227 | 0:00:05\n",
       " 4 | 0.002867 | 0.095488 | 0.977310 | 0:00:05\n",
       " 5 | 0.001495 | 0.097660 | 0.977144 | 0:00:05\n",
       " 6 | 0.001800 | 0.096130 | 0.977726 | 0:00:05\n",
       " 7 | 0.001288 | 0.097118 | 0.976895 | 0:00:05\n",
       " 8 | 0.001754 | 0.097606 | 0.976978 | 0:00:05\n",
       " 9 | 0.008289 | 0.097712 | 0.977975 | 0:00:05"
      ],
      "text/plain": [
       "<IPython.core.display.Markdown object>"
      ]
     },
     "metadata": {},
     "output_type": "display_data"
    }
   ],
   "source": [
    "train_model(dls, model, epochs=10, lr=0.1)"
   ]
  },
  {
   "cell_type": "markdown",
   "id": "governing-ordinance",
   "metadata": {},
   "source": [
    "### Test model"
   ]
  },
  {
   "cell_type": "code",
   "execution_count": 52,
   "id": "developed-passenger",
   "metadata": {},
   "outputs": [
    {
     "data": {
      "text/plain": [
       "(5, 0.995669960975647)"
      ]
     },
     "execution_count": 52,
     "metadata": {},
     "output_type": "execute_result"
    }
   ],
   "source": [
    "classify_digit(a5)"
   ]
  },
  {
   "cell_type": "code",
   "execution_count": 53,
   "id": "perfect-paragraph",
   "metadata": {},
   "outputs": [
    {
     "data": {
      "text/plain": [
       "(7, 1.0)"
      ]
     },
     "execution_count": 53,
     "metadata": {},
     "output_type": "execute_result"
    }
   ],
   "source": [
    "classify_digit(a7)"
   ]
  }
 ],
 "metadata": {
  "kernelspec": {
   "display_name": "Python 3",
   "language": "python",
   "name": "python3"
  },
  "language_info": {
   "codemirror_mode": {
    "name": "ipython",
    "version": 3
   },
   "file_extension": ".py",
   "mimetype": "text/x-python",
   "name": "python",
   "nbconvert_exporter": "python",
   "pygments_lexer": "ipython3",
   "version": "3.8.2"
  }
 },
 "nbformat": 4,
 "nbformat_minor": 5
}
