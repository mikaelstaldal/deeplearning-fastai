{
 "cells": [
  {
   "cell_type": "markdown",
   "id": "meaning-characterization",
   "metadata": {},
   "source": [
    "## Full MNIST dataset for digit image classification\n",
    "Simple approach using high-level fast.ai."
   ]
  },
  {
   "cell_type": "code",
   "execution_count": 3,
   "id": "japanese-raising",
   "metadata": {},
   "outputs": [],
   "source": [
    "from fastai.vision.all import *"
   ]
  },
  {
   "cell_type": "markdown",
   "id": "incorporate-relevance",
   "metadata": {},
   "source": [
    "### Load training and validation data"
   ]
  },
  {
   "cell_type": "code",
   "execution_count": 4,
   "id": "assigned-liability",
   "metadata": {},
   "outputs": [],
   "source": [
    "path = untar_data(URLs.MNIST)"
   ]
  },
  {
   "cell_type": "code",
   "execution_count": 5,
   "id": "solid-former",
   "metadata": {},
   "outputs": [],
   "source": [
    "train_path = path/'training'\n",
    "fnames = get_image_files(train_path)\n",
    "dls = ImageDataLoaders.from_path_func(train_path, fnames, parent_label)"
   ]
  },
  {
   "cell_type": "code",
   "execution_count": 6,
   "id": "recorded-expansion",
   "metadata": {},
   "outputs": [
    {
     "data": {
      "text/plain": [
       "(['0', '1', '2', '3', '4', '5', '6', '7', '8', '9'], 10)"
      ]
     },
     "execution_count": 6,
     "metadata": {},
     "output_type": "execute_result"
    }
   ],
   "source": [
    "dls.vocab, len(dls.vocab)"
   ]
  },
  {
   "cell_type": "code",
   "execution_count": 7,
   "id": "contemporary-second",
   "metadata": {},
   "outputs": [
    {
     "data": {
      "image/png": "[encoded data removed]",
      "text/plain": [
       "<Figure size 1728x216 with 8 Axes>"
      ]
     },
     "metadata": {
      "needs_background": "light"
     },
     "output_type": "display_data"
    }
   ],
   "source": [
    "dls.show_batch(max_n=8, nrows=1)"
   ]
  },
  {
   "cell_type": "markdown",
   "id": "arranged-plymouth",
   "metadata": {},
   "source": [
    "### Prepare test data"
   ]
  },
  {
   "cell_type": "code",
   "execution_count": 8,
   "id": "powered-lighter",
   "metadata": {},
   "outputs": [
    {
     "data": {
      "image/png": "[encoded data removed]",
      "text/plain": [
       "PILImage mode=RGB size=28x28"
      ]
     },
     "execution_count": 8,
     "metadata": {},
     "output_type": "execute_result"
    }
   ],
   "source": [
    "a5 = PILImage.create((path/'testing'/'5').ls()[0])\n",
    "a5"
   ]
  },
  {
   "cell_type": "code",
   "execution_count": 9,
   "id": "material-balloon",
   "metadata": {},
   "outputs": [
    {
     "data": {
      "image/png": "[encoded data removed]",
      "text/plain": [
       "PILImage mode=RGB size=28x28"
      ]
     },
     "execution_count": 9,
     "metadata": {},
     "output_type": "execute_result"
    }
   ],
   "source": [
    "a7 = PILImage.create((path/'testing'/'7').ls()[0])\n",
    "a7"
   ]
  },
  {
   "cell_type": "markdown",
   "id": "smoking-manhattan",
   "metadata": {},
   "source": [
    "### Train model"
   ]
  },
  {
   "cell_type": "code",
   "execution_count": 10,
   "id": "cross-excuse",
   "metadata": {},
   "outputs": [
    {
     "data": {
      "text/html": [
       "<table border=\"1\" class=\"dataframe\">\n",
       "  <thead>\n",
       "    <tr style=\"text-align: left;\">\n",
       "      <th>epoch</th>\n",
       "      <th>train_loss</th>\n",
       "      <th>valid_loss</th>\n",
       "      <th>accuracy</th>\n",
       "      <th>time</th>\n",
       "    </tr>\n",
       "  </thead>\n",
       "  <tbody>\n",
       "    <tr>\n",
       "      <td>0</td>\n",
       "      <td>1.182541</td>\n",
       "      <td>0.799846</td>\n",
       "      <td>0.921583</td>\n",
       "      <td>00:32</td>\n",
       "    </tr>\n",
       "    <tr>\n",
       "      <td>1</td>\n",
       "      <td>0.875212</td>\n",
       "      <td>257.741882</td>\n",
       "      <td>0.916583</td>\n",
       "      <td>00:30</td>\n",
       "    </tr>\n",
       "    <tr>\n",
       "      <td>2</td>\n",
       "      <td>0.156140</td>\n",
       "      <td>0.138075</td>\n",
       "      <td>0.983500</td>\n",
       "      <td>00:30</td>\n",
       "    </tr>\n",
       "    <tr>\n",
       "      <td>3</td>\n",
       "      <td>0.048494</td>\n",
       "      <td>0.032242</td>\n",
       "      <td>0.990750</td>\n",
       "      <td>00:30</td>\n",
       "    </tr>\n",
       "  </tbody>\n",
       "</table>"
      ],
      "text/plain": [
       "<IPython.core.display.HTML object>"
      ]
     },
     "metadata": {},
     "output_type": "display_data"
    }
   ],
   "source": [
    "learn = cnn_learner(dls, resnet18, pretrained=False, metrics=accuracy)\n",
    "learn.fit_one_cycle(4, 0.1)"
   ]
  },
  {
   "cell_type": "code",
   "execution_count": 11,
   "id": "limiting-german",
   "metadata": {},
   "outputs": [
    {
     "data": {
      "text/plain": [
       "['0', '1', '2', '3', '4', '5', '6', '7', '8', '9']"
      ]
     },
     "execution_count": 11,
     "metadata": {},
     "output_type": "execute_result"
    }
   ],
   "source": [
    "learn.dls.vocab"
   ]
  },
  {
   "cell_type": "code",
   "execution_count": 12,
   "id": "sweet-emission",
   "metadata": {},
   "outputs": [
    {
     "data": {
      "text/html": [],
      "text/plain": [
       "<IPython.core.display.HTML object>"
      ]
     },
     "metadata": {},
     "output_type": "display_data"
    },
    {
     "data": {
      "image/png": "[encoded data removed]",
      "text/plain": [
       "<Figure size 432x288 with 1 Axes>"
      ]
     },
     "metadata": {
      "needs_background": "light"
     },
     "output_type": "display_data"
    }
   ],
   "source": [
    "interp = ClassificationInterpretation.from_learner(learn)\n",
    "interp.plot_confusion_matrix()"
   ]
  },
  {
   "cell_type": "markdown",
   "id": "israeli-catalog",
   "metadata": {},
   "source": [
    "### Test model"
   ]
  },
  {
   "cell_type": "code",
   "execution_count": 13,
   "id": "novel-anthony",
   "metadata": {},
   "outputs": [
    {
     "data": {
      "text/html": [],
      "text/plain": [
       "<IPython.core.display.HTML object>"
      ]
     },
     "metadata": {},
     "output_type": "display_data"
    },
    {
     "data": {
      "text/plain": [
       "('5',\n",
       " tensor(5),\n",
       " tensor([7.0083e-09, 5.0544e-08, 2.1783e-08, 1.7215e-06, 5.5376e-07, 9.9998e-01,\n",
       "         3.0466e-06, 1.4024e-07, 4.2069e-06, 9.2329e-06]))"
      ]
     },
     "execution_count": 13,
     "metadata": {},
     "output_type": "execute_result"
    }
   ],
   "source": [
    "learn.predict(a5)"
   ]
  },
  {
   "cell_type": "code",
   "execution_count": 14,
   "id": "sudden-wildlife",
   "metadata": {
    "scrolled": true
   },
   "outputs": [
    {
     "data": {
      "text/html": [],
      "text/plain": [
       "<IPython.core.display.HTML object>"
      ]
     },
     "metadata": {},
     "output_type": "display_data"
    },
    {
     "data": {
      "text/plain": [
       "('7',\n",
       " tensor(7),\n",
       " tensor([9.7484e-11, 1.8725e-09, 1.3967e-08, 3.1543e-09, 1.0251e-08, 5.3367e-10,\n",
       "         2.2440e-11, 1.0000e+00, 1.8926e-11, 1.5570e-08]))"
      ]
     },
     "execution_count": 14,
     "metadata": {},
     "output_type": "execute_result"
    }
   ],
   "source": [
    "learn.predict(a7)"
   ]
  },
  {
   "cell_type": "markdown",
   "id": "mobile-mechanism",
   "metadata": {},
   "source": [
    "### Export model"
   ]
  },
  {
   "cell_type": "code",
   "execution_count": 15,
   "id": "corresponding-policy",
   "metadata": {},
   "outputs": [],
   "source": [
    "learn.export()"
   ]
  },
  {
   "cell_type": "markdown",
   "id": "combined-pierre",
   "metadata": {},
   "source": [
    "Use [classify.py](classify.py) to use the exported model."
   ]
  }
 ],
 "metadata": {
  "kernelspec": {
   "display_name": "Python 3",
   "language": "python",
   "name": "python3"
  },
  "language_info": {
   "codemirror_mode": {
    "name": "ipython",
    "version": 3
   },
   "file_extension": ".py",
   "mimetype": "text/x-python",
   "name": "python",
   "nbconvert_exporter": "python",
   "pygments_lexer": "ipython3",
   "version": "3.8.2"
  }
 },
 "nbformat": 4,
 "nbformat_minor": 5
}
